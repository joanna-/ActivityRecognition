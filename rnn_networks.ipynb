{
 "cells": [
  {
   "cell_type": "code",
   "execution_count": 1,
   "metadata": {
    "pycharm": {
     "is_executing": false
    }
   },
   "outputs": [
    {
     "name": "stdout",
     "output_type": "stream",
     "text": [
      "(773711, 13) (846331, 13) (888477, 13) (247099, 13)\n",
      "(673516, 13) (747021, 13) (678459, 13) (147537, 13)\n"
     ]
    }
   ],
   "source": [
    "from __future__ import absolute_import, division, print_function, unicode_literals\n",
    "\n",
    "import pandas as pd\n",
    "\n",
    "feature_names =  ['accX', 'accY', 'accZ', 'gyroX', 'gyroY', 'gyroZ', 'magX', 'magY', 'magZ']\n",
    "\n",
    "cat_dict = {'1a': 0,'1b': 1,'2a': 2, '2b': 3, '2c': 4, '2d': 5, '3a': 6, '3b': 7, 'TRANSITION': -1}\n",
    "\n",
    "def process_file(filename):\n",
    "    col_names = ['timestamp'] + feature_names + ['cat']\n",
    "    df = pd.read_csv(filename, header=None, names=col_names)\n",
    "    df = df.applymap(lambda x: x.strip() if isinstance(x, str) else x)\n",
    "    df = df.dropna()\n",
    "    df['cat'] = df['cat'].map(cat_dict) \n",
    "    \n",
    "    df['upright'] = (df['cat'] ==  1) | (df['cat'] == 0) |  (df['cat'] == 7) | (df['cat'] == 6)\n",
    "    df['smartphone'] = (df['cat'] == 1) | (df['cat'] == 3) | (df['cat'] == 5) | (df['cat'] == 7)\n",
    "    \n",
    "    df.upright = df.upright.astype(int)\n",
    "    df.smartphone = df.smartphone.astype(int)\n",
    "    \n",
    "    return df\n",
    "\n",
    "df1_unfiltered = process_file('1_50Hz.csv')\n",
    "df2_unfiltered = process_file('2_50Hz.csv')\n",
    "df3_unfiltered = process_file('3_50Hz.csv')\n",
    "df4_unfiltered = process_file('4_50Hz.csv')\n",
    "\n",
    "df1234 = pd.concat([df1_unfiltered,df2_unfiltered,df3_unfiltered,df4_unfiltered])\n",
    "\n",
    "def normalize(df):\n",
    "    for feature in feature_names:\n",
    "        df[feature] = (df[feature] - df1234[feature].mean()) / (df1234[feature].max() - df1234[feature].min())\n",
    "        \n",
    "normalize(df1_unfiltered)\n",
    "normalize(df2_unfiltered)\n",
    "normalize(df3_unfiltered)\n",
    "normalize(df4_unfiltered)\n",
    "\n",
    "df1 = df1_unfiltered[df1_unfiltered['cat'] != -1]\n",
    "df2 = df2_unfiltered[df2_unfiltered['cat'] != -1]\n",
    "df3 = df3_unfiltered[df3_unfiltered['cat'] != -1]\n",
    "df4 = df4_unfiltered[df4_unfiltered['cat'] != -1]\n",
    "\n",
    "df12 = pd.concat([df1, df2])\n",
    "df123 = pd.concat([df1, df2, df3])\n",
    "\n",
    "print(df1_unfiltered.shape, df2_unfiltered.shape, df3_unfiltered.shape, df4_unfiltered.shape)\n",
    "print(df1.shape, df2.shape, df3.shape, df4.shape)"
   ]
  },
  {
   "cell_type": "code",
   "execution_count": 2,
   "metadata": {
    "pycharm": {
     "is_executing": false
    }
   },
   "outputs": [
    {
     "name": "stdout",
     "output_type": "stream",
     "text": [
      "1.14.0\n"
     ]
    }
   ],
   "source": [
    "# TensorFlow and tf.keras\n",
    "import tensorflow as tf\n",
    "\n",
    "# Helper libraries\n",
    "import numpy as np\n",
    "import matplotlib.pyplot as plt\n",
    "\n",
    "print(tf.__version__)\n",
    "\n",
    "import warnings\n",
    "warnings.filterwarnings('ignore')"
   ]
  },
  {
   "cell_type": "code",
   "execution_count": 3,
   "metadata": {
    "pycharm": {
     "is_executing": false
    }
   },
   "outputs": [
    {
     "name": "stderr",
     "output_type": "stream",
     "text": [
      "Using TensorFlow backend.\n"
     ]
    }
   ],
   "source": [
    "from collections import Counter\n",
    "from keras.utils import to_categorical\n",
    "\n",
    "def window_stack(a):\n",
    "    n = a.shape[0]\n",
    "    result = np.zeros((128 + 64 * (n//64), 9))\n",
    "    result[:a.shape[0], :a.shape[1]] = a\n",
    "#     print(result.shape)\n",
    "#     print(result[1*64 : 128+1*64].shape)\n",
    "    result =  np.dstack( result[i*64 : 128+i*64] for i in range(n // 64) )\n",
    "    result = np.transpose(result, (2, 0, 1))\n",
    "    return result\n",
    "\n",
    "def construct_y(a):\n",
    "    n = a.shape[0]\n",
    "    result = np.zeros((n//64))\n",
    "#     print(result.shape)\n",
    "    for i in range(n //64):\n",
    "        subarr = a.values[i*64 : 128+i*64]\n",
    "        result[i] = Counter(subarr).most_common(1)[0][0]\n",
    "    return result\n",
    "\n",
    "def prepare_for_training(training_set, testing_set, category):\n",
    "    \n",
    "    #training data\n",
    "    trainX, trainy = training_set[feature_names], training_set[category]\n",
    "    # load all test\n",
    "    testX, testy = testing_set[feature_names], testing_set[category]\n",
    "\n",
    "    testy = construct_y(testy)\n",
    "    trainy = construct_y(trainy)\n",
    "    \n",
    "    trainX = window_stack(trainX.values)\n",
    "    testX = window_stack(testX.values)\n",
    "        \n",
    "    # one hot encode y\n",
    "    trainy = to_categorical(trainy)\n",
    "    testy = to_categorical(testy)\n",
    "    print(trainX.shape, trainy.shape, testX.shape, testy.shape)\n",
    "    return trainX, trainy, testX, testy"
   ]
  },
  {
   "cell_type": "code",
   "execution_count": 4,
   "metadata": {
    "pycharm": {
     "is_executing": false
    }
   },
   "outputs": [],
   "source": [
    "from tensorflow.python.keras import *\n",
    "from tensorflow.python.keras.layers import *\n",
    "\n",
    "from numpy import mean\n",
    "from numpy import std\n",
    "\n",
    "# fit and evaluate a model\n",
    "def evaluate_model(trainX, trainy, testX, testy, models):\n",
    "    verbose, epochs, batch_size = 0, 25, 64\n",
    "    n_timesteps, n_features, n_outputs = trainX.shape[1], trainX.shape[2], trainy.shape[1]\n",
    "    # reshape data into time steps of sub-sequences\n",
    "    n_steps, n_length = 4, 32\n",
    "    trainX = trainX.reshape((trainX.shape[0], n_steps, n_length, n_features))\n",
    "    testX = testX.reshape((testX.shape[0], n_steps, n_length, n_features))\n",
    "    # define model\n",
    "    model = Sequential()\n",
    "    model.add(TimeDistributed(Conv1D(filters=64, kernel_size=3, activation='relu'), input_shape=(None,n_length,n_features)))\n",
    "    model.add(TimeDistributed(Conv1D(filters=64, kernel_size=3, activation='relu')))\n",
    "    model.add(TimeDistributed(Dropout(0.5)))\n",
    "    model.add(TimeDistributed(MaxPooling1D(pool_size=2)))\n",
    "    model.add(TimeDistributed(Flatten()))\n",
    "    model.add(LSTM(100))\n",
    "    model.add(Dropout(0.5))\n",
    "    model.add(Dense(100, activation='relu'))\n",
    "    model.add(Dense(n_outputs, activation='softmax'))\n",
    "    model.compile(loss='categorical_crossentropy', optimizer='adam', metrics=['accuracy'])\n",
    "    # fit network\n",
    "    model.fit(trainX, trainy, epochs=epochs, batch_size=batch_size, verbose=verbose)\n",
    "    models.append(model)\n",
    "    # evaluate model\n",
    "    _, accuracy = model.evaluate(testX, testy, batch_size=batch_size, verbose=0)\n",
    "    return accuracy\n",
    " \n",
    "# summarize scores\n",
    "def summarize_results(scores):\n",
    "    print(scores)\n",
    "    # summarize mean and standard deviation\n",
    "    m, s = mean(scores), std(scores)\n",
    "    print('%.3f%% (+/-%.3f)' % (m, s))\n",
    "\n",
    "# m, s = mean(scores), std(scores)\n",
    "# print('Accuracy: %.3f%% (+/-%.3f)' % (m, s))"
   ]
  },
  {
   "cell_type": "code",
   "execution_count": 9,
   "metadata": {
    "pycharm": {
     "is_executing": false
    }
   },
   "outputs": [],
   "source": [
    "def train_models_for_datasets(trainX, trainy, testX, testy):\n",
    "    models = []\n",
    "    # repeat experiment\n",
    "    scores = list()\n",
    "    for r in range(1):\n",
    "        score = evaluate_model(trainX, trainy, testX, testy, models)\n",
    "        score = score * 100.0\n",
    "        print('#%d: %.3f' % (r+1, score))\n",
    "        scores.append(score)\n",
    "    # summarize results\n",
    "    summarize_results(scores)\n",
    "    return models, scores"
   ]
  },
  {
   "cell_type": "code",
   "execution_count": 10,
   "metadata": {
    "pycharm": {
     "is_executing": false
    }
   },
   "outputs": [],
   "source": [
    "from matplotlib import pyplot\n",
    "\n",
    "# plot a histogram of each variable in the dataset\n",
    "def plot_variable_distributions(trainX):\n",
    "\t# remove overlap\n",
    "\tcut = int(trainX.shape[1] / 2)\n",
    "\tlongX = trainX[:, -cut:, :]\n",
    "\t# flatten windows\n",
    "\tlongX = longX.reshape((longX.shape[0] * longX.shape[1], longX.shape[2]))\n",
    "\tprint(longX.shape)\n",
    "\tpyplot.figure()\n",
    "\txaxis = None\n",
    "\tfor i in range(longX.shape[1]):\n",
    "\t\tax = pyplot.subplot(longX.shape[1], 1, i+1, sharex=xaxis)\n",
    "\t\tax.set_xlim(-1, 1)\n",
    "\t\tif i == 0:\n",
    "\t\t\txaxis = ax\n",
    "\t\tpyplot.hist(longX[:, i], bins=100)\n",
    "\tpyplot.show()"
   ]
  },
  {
   "cell_type": "code",
   "execution_count": 11,
   "metadata": {
    "pycharm": {
     "is_executing": false
    }
   },
   "outputs": [
    {
     "name": "stdout",
     "output_type": "stream",
     "text": [
      "[(0, 0), (-1, 4799), (1, 16415), (-1, 1520), (6, 7871), (-1, 3165), (5, 43571), (-1, 3500), (2, 16117), (-1, 2978), (3, 15018), (-1, 2168), (6, 15270), (-1, 1940), (0, 5022), (-1, 2058), (6, 35522), (-1, 34690), (0, 1678), (-1, 2708), (3, 1716), (-1, 2547), (7, 4570), (-1, 2688), (0, 1121), (-1, 1223), (6, 1124), (-1, 1325), (0, 1763), (-1, 1564), (7, 3172), (-1, 5111), (4, 12067), (-1, 2358), (2, 3070), (-1, 3192), (0, 20668), (-1, 1178), (0, 1915), (-1, 5618), (4, 21016), (-1, 2339), (3, 1917), (-1, 1159), (2, 2172), (-1, 1748), (7, 2012), (-1, 1476), (6, 2409), (-1, 1838), (0, 4469), (-1, 1028), (1, 18012), (-1, 2091), (7, 4179), (-1, 2162), (6, 5169), (-1, 1246), (7, 1043), (-1, 1201), (7, 406), (-1, 18805), (0, 9618), (-1, 2358), (5, 7117), (-1, 3210), (7, 10422), (-1, 1518), (0, 3645), (-1, 2123), (5, 6311), (-1, 5761), (4, 32620), (-1, 2379), (1, 15016), (-1, 8283), (1, 23666), (-1, 3526), (7, 6273), (-1, 6375), (5, 4464), (-1, 1195), (5, 1010), (-1, 4047), (4, 17959), (-1, 2949), (3, 13066), (-1, 4148), (0, 13068), (-1, 2417), (3, 13981), (-1, 2913), (7, 3418), (-1, 1942), (0, 5129), (-1, 1549), (0, 1730), (-1, 2590), (2, 12366), (-1, 860), (2, 6960), (-1, 3089), (7, 42082), (-1, 230), (6, 4220), (-1, 1647), (1, 17004), (-1, 1971), (2, 17681), (-1, 2831), (7, 12669), (-1, 2006), (0, 6546), (-1, 3081), (5, 27625), (-1, 2012), (2, 23618), (-1, 3017), (6, 18561), (-1, 1606), (3, 6466), (-1, 2377), (0, 13996), (-1, 4337), (3, 9616)]\n"
     ]
    }
   ],
   "source": [
    "def dataset_to_activities(df):\n",
    "    activities = []\n",
    "    current_activ = 0\n",
    "    counter = 0\n",
    "    for _, row in df.iterrows():\n",
    "        if row['cat'] == current_activ:\n",
    "            counter += 1\n",
    "        else:\n",
    "            activities.append((current_activ, counter))\n",
    "            current_activ = row['cat']\n",
    "            counter = 0\n",
    "    return activities\n",
    "\n",
    "divided = dataset_to_activities(df3_unfiltered)\n",
    "print(divided)"
   ]
  },
  {
   "cell_type": "code",
   "execution_count": 12,
   "metadata": {
    "pycharm": {
     "is_executing": false
    }
   },
   "outputs": [
    {
     "name": "stdout",
     "output_type": "stream",
     "text": [
      "cat\n",
      "(22195, 128, 9) (22195, 8) (10600, 128, 9) (10600, 8)\n",
      "#1: 54.538\n",
      "[54.53773736953735]\n",
      "54.538% (+/-0.000)\n"
     ]
    }
   ],
   "source": [
    "results = {}\n",
    "\n",
    "for category in ['cat', \n",
    "#                  'upright', 'smartphone'\n",
    "                ]:\n",
    "    print(category)\n",
    "    trainX, trainy, testX, testy = prepare_for_training(df12, df3, category)\n",
    "    models, scores = train_models_for_datasets(trainX, trainy, testX, testy)\n",
    "    results[category] = (models, scores)"
   ]
  },
  {
   "cell_type": "code",
   "execution_count": 13,
   "metadata": {
    "pycharm": {
     "is_executing": false
    }
   },
   "outputs": [
    {
     "name": "stdout",
     "output_type": "stream",
     "text": [
      "{'cat': ([<tensorflow.python.keras.engine.sequential.Sequential object at 0x000002D04BF76160>], [54.53773736953735])}\n"
     ]
    }
   ],
   "source": [
    "print(results)\n",
    "\n",
    "def get_predictions(cat):\n",
    "    n_steps, n_length = 4, 32\n",
    "    n_features = trainX.shape[2]\n",
    "    \n",
    "    test = testX.reshape((testX.shape[0], n_steps, n_length, n_features))\n",
    "    \n",
    "    return [np.argmax(x) for x in results[cat][0][results[cat][1].index(\n",
    "        max(results[cat][1]))].predict(test, batch_size=32)]\n",
    "\n",
    "# smartphone = get_predictions('smartphone')\n",
    "# upright = get_predictions('upright')\n",
    "categories = get_predictions('cat')"
   ]
  },
  {
   "cell_type": "code",
   "execution_count": 14,
   "metadata": {
    "pycharm": {
     "is_executing": false
    }
   },
   "outputs": [
    {
     "data": {
      "text/plain": [
       "[<matplotlib.lines.Line2D at 0x2d0defe8d68>]"
      ]
     },
     "execution_count": 14,
     "metadata": {},
     "output_type": "execute_result"
    },
    {
     "data": {
      "image/png": "[encoded data removed]",
      "text/plain": [
       "<Figure size 1440x720 with 1 Axes>"
      ]
     },
     "metadata": {
      "needs_background": "light"
     },
     "output_type": "display_data"
    }
   ],
   "source": [
    "plt.figure(figsize=(20, 10))\n",
    "plt.plot([x for x in range(888477)], df3_unfiltered.cat)"
   ]
  },
  {
   "cell_type": "code",
   "execution_count": 15,
   "metadata": {
    "pycharm": {
     "is_executing": false
    }
   },
   "outputs": [],
   "source": [
    "import operator\n",
    "\n",
    "\n",
    "def restore(predictions, original, neutral_element=0):\n",
    "    restored = []\n",
    "\n",
    "    zeros_count = 0\n",
    "    for i in range(0, 888477):\n",
    "        if original[i] == neutral_element:\n",
    "            restored.append(neutral_element)\n",
    "            zeros_count += 1\n",
    "        else:\n",
    "            restored.append((predictions[max(0, (i - zeros_count)//64 - 1)], \n",
    "                               predictions[min(10600-1, (i - zeros_count)//64)]))\n",
    "          \n",
    "    histograms = []  \n",
    "    histogram = {}\n",
    "    current_category = -2\n",
    "\n",
    "    for i in range(0,  888447):\n",
    "      if restored[i] == neutral_element:\n",
    "        current_category = -2\n",
    "      else:\n",
    "        if current_category == -2:\n",
    "          j = i\n",
    "          histogram = {}\n",
    "          while restored[j] != neutral_element:\n",
    "            if restored[j][0] in histogram:\n",
    "              histogram[restored[j][0]] += 1\n",
    "            else:\n",
    "              histogram[restored[j][0]] = 1\n",
    "            if restored[j][1] in histogram:\n",
    "              histogram[restored[j][1]] += 1\n",
    "            else:\n",
    "             histogram[restored[j][1]] = 1\n",
    "            j += 1\n",
    "          current_category = max(histogram.items(), key=operator.itemgetter(1))[0]\n",
    "          histograms.append(histogram)\n",
    "    \n",
    "        restored[i] = current_category\n",
    "\n",
    "    print(len(restored))\n",
    "    print(len(original))\n",
    "    return restored, histograms"
   ]
  },
  {
   "cell_type": "code",
   "execution_count": 16,
   "metadata": {
    "scrolled": false
   },
   "outputs": [
    {
     "name": "stdout",
     "output_type": "stream",
     "text": [
      "888477\n",
      "888477\n",
      "0.28930855835322694\n",
      "[{1: 31552, 0: 256, 3: 256, 7: 640, 6: 128}, {6: 15712, 4: 32}, {6: 32, 4: 86624, 1: 384, 0: 104}, {0: 32236}, {0: 22305, 1: 7680, 6: 53}, {0: 643, 6: 29771, 3: 128}, {0: 9662, 1: 384}, {0: 1672, 6: 69374}, {6: 2, 0: 1218, 1: 2138}, {1: 3432, 5: 2}, {1: 446, 5: 2046, 3: 6365, 7: 256, 0: 29}, {3: 35, 0: 2209}, {0: 102, 6: 2148}, {6: 28, 0: 3492, 7: 8}, {0: 56, 7: 3941, 3: 2048, 1: 256, 4: 45}, {7: 19, 4: 23379, 1: 128, 3: 512, 0: 98}, {0: 6142}, {0: 22688, 1: 18394, 4: 256}, {1: 2982, 0: 768, 4: 82}, {4: 42000, 1: 34}, {4: 30, 1: 3774, 0: 32}, {1: 32, 0: 4285, 7: 29}, {0: 35, 7: 3043, 3: 890, 6: 58}, {3: 6, 6: 4778, 0: 36}, {6: 28, 0: 8886, 1: 26}, {0: 166, 1: 34269, 7: 1335, 5: 256}, {1: 9, 7: 8137, 3: 128, 6: 86}, {6: 9895, 0: 384, 7: 61}, {6: 3, 7: 2085}, {7: 774, 0: 40}, {7: 24, 0: 7000, 1: 12155, 4: 59}, {1: 5, 4: 14222, 3: 9}, {4: 55, 3: 1783, 7: 17536, 1: 1088, 5: 384}, {1: 7230, 4: 62}, {1: 2, 4: 12622}, {4: 65223, 1: 19}, {4: 45, 1: 25765, 7: 2688, 0: 896, 3: 640}, {1: 39479, 0: 6656, 4: 768, 3: 128, 7: 303}, {1: 273, 7: 6210, 5: 4736, 3: 1280, 4: 49}, {7: 15, 4: 8915}, {4: 2022}, {4: 35859, 1: 61}, {4: 3, 1: 26123, 0: 8}, {1: 77, 0: 26061}, {0: 43, 1: 27921}, {1: 90, 3: 1152, 7: 5504, 0: 92}, {0: 10260}, {0: 1414, 1: 2048}, {0: 24734}, {0: 13895, 7: 27}, {0: 421, 7: 37475, 3: 33152, 1: 3072, 5: 9856, 4: 128, 6: 62}, {7: 2, 6: 7741, 0: 699}, {6: 5, 0: 109, 1: 33768, 3: 128}, {1: 24, 0: 35340}, {0: 76, 7: 16632, 1: 1976, 3: 4352, 5: 1664, 4: 640}, {7: 8, 1: 5150, 0: 7936}, {1: 1962, 4: 51829, 5: 640, 7: 768, 0: 53}, {4: 11, 0: 43899, 1: 3328}, {0: 394, 6: 36602, 3: 128}, {6: 6, 0: 131, 1: 12797}, {1: 45, 0: 27949}, {0: 22, 1: 19212}]\n"
     ]
    },
    {
     "data": {
      "image/png": "[encoded data removed]",
      "text/plain": [
       "<Figure size 1440x360 with 1 Axes>"
      ]
     },
     "metadata": {
      "needs_background": "light"
     },
     "output_type": "display_data"
    }
   ],
   "source": [
    "def compare_results(original, to_restore, neutral_element=0):\n",
    "    restored, histograms = restore(to_restore, original.values, neutral_element)\n",
    "    error = np.mean( restored != original.values )\n",
    "    print(error)\n",
    "    print(histograms)\n",
    "    plt.figure(figsize=(20, 5))\n",
    "    plt.plot([x for x in range(len(restored))], restored, c='r')\n",
    "    plt.plot([x for x in range(len(original))], original, c='b')\n",
    "    \n",
    "# compare_results(df3_unfiltered['smartphone'], smartphone)\n",
    "# compare_results(df3_unfiltered['upright'], upright)\n",
    "compare_results(df3_unfiltered['cat'], categories, -1)"
   ]
  },
  {
   "cell_type": "code",
   "execution_count": 17,
   "metadata": {},
   "outputs": [
    {
     "data": {
      "text/html": [
       "<div>\n",
       "<style scoped>\n",
       "    .dataframe tbody tr th:only-of-type {\n",
       "        vertical-align: middle;\n",
       "    }\n",
       "\n",
       "    .dataframe tbody tr th {\n",
       "        vertical-align: top;\n",
       "    }\n",
       "\n",
       "    .dataframe thead th {\n",
       "        text-align: right;\n",
       "    }\n",
       "</style>\n",
       "<table border=\"1\" class=\"dataframe\">\n",
       "  <thead>\n",
       "    <tr style=\"text-align: right;\">\n",
       "      <th></th>\n",
       "      <th>timestamp</th>\n",
       "      <th>cat</th>\n",
       "    </tr>\n",
       "  </thead>\n",
       "  <tbody>\n",
       "    <tr>\n",
       "      <th>0</th>\n",
       "      <td>2019-07-10_141406:660</td>\n",
       "      <td>-1.0</td>\n",
       "    </tr>\n",
       "    <tr>\n",
       "      <th>1</th>\n",
       "      <td>2019-07-10_141406:680</td>\n",
       "      <td>-1.0</td>\n",
       "    </tr>\n",
       "    <tr>\n",
       "      <th>2</th>\n",
       "      <td>2019-07-10_141406:700</td>\n",
       "      <td>-1.0</td>\n",
       "    </tr>\n",
       "    <tr>\n",
       "      <th>3</th>\n",
       "      <td>2019-07-10_141406:720</td>\n",
       "      <td>-1.0</td>\n",
       "    </tr>\n",
       "    <tr>\n",
       "      <th>4</th>\n",
       "      <td>2019-07-10_141406:740</td>\n",
       "      <td>-1.0</td>\n",
       "    </tr>\n",
       "    <tr>\n",
       "      <th>5</th>\n",
       "      <td>2019-07-10_141406:760</td>\n",
       "      <td>-1.0</td>\n",
       "    </tr>\n",
       "    <tr>\n",
       "      <th>6</th>\n",
       "      <td>2019-07-10_141406:780</td>\n",
       "      <td>-1.0</td>\n",
       "    </tr>\n",
       "    <tr>\n",
       "      <th>7</th>\n",
       "      <td>2019-07-10_141406:800</td>\n",
       "      <td>-1.0</td>\n",
       "    </tr>\n",
       "    <tr>\n",
       "      <th>8</th>\n",
       "      <td>2019-07-10_141406:820</td>\n",
       "      <td>-1.0</td>\n",
       "    </tr>\n",
       "    <tr>\n",
       "      <th>9</th>\n",
       "      <td>2019-07-10_141406:840</td>\n",
       "      <td>-1.0</td>\n",
       "    </tr>\n",
       "    <tr>\n",
       "      <th>10</th>\n",
       "      <td>2019-07-10_141406:860</td>\n",
       "      <td>-1.0</td>\n",
       "    </tr>\n",
       "    <tr>\n",
       "      <th>11</th>\n",
       "      <td>2019-07-10_141406:880</td>\n",
       "      <td>-1.0</td>\n",
       "    </tr>\n",
       "    <tr>\n",
       "      <th>12</th>\n",
       "      <td>2019-07-10_141406:900</td>\n",
       "      <td>-1.0</td>\n",
       "    </tr>\n",
       "    <tr>\n",
       "      <th>13</th>\n",
       "      <td>2019-07-10_141406:920</td>\n",
       "      <td>-1.0</td>\n",
       "    </tr>\n",
       "    <tr>\n",
       "      <th>14</th>\n",
       "      <td>2019-07-10_141406:940</td>\n",
       "      <td>-1.0</td>\n",
       "    </tr>\n",
       "    <tr>\n",
       "      <th>15</th>\n",
       "      <td>2019-07-10_141406:960</td>\n",
       "      <td>-1.0</td>\n",
       "    </tr>\n",
       "    <tr>\n",
       "      <th>16</th>\n",
       "      <td>2019-07-10_141406:980</td>\n",
       "      <td>-1.0</td>\n",
       "    </tr>\n",
       "    <tr>\n",
       "      <th>17</th>\n",
       "      <td>2019-07-10_141407:000</td>\n",
       "      <td>-1.0</td>\n",
       "    </tr>\n",
       "    <tr>\n",
       "      <th>18</th>\n",
       "      <td>2019-07-10_141407:020</td>\n",
       "      <td>-1.0</td>\n",
       "    </tr>\n",
       "    <tr>\n",
       "      <th>19</th>\n",
       "      <td>2019-07-10_141407:040</td>\n",
       "      <td>-1.0</td>\n",
       "    </tr>\n",
       "    <tr>\n",
       "      <th>20</th>\n",
       "      <td>2019-07-10_141407:060</td>\n",
       "      <td>-1.0</td>\n",
       "    </tr>\n",
       "    <tr>\n",
       "      <th>21</th>\n",
       "      <td>2019-07-10_141407:080</td>\n",
       "      <td>-1.0</td>\n",
       "    </tr>\n",
       "    <tr>\n",
       "      <th>22</th>\n",
       "      <td>2019-07-10_141407:100</td>\n",
       "      <td>-1.0</td>\n",
       "    </tr>\n",
       "    <tr>\n",
       "      <th>23</th>\n",
       "      <td>2019-07-10_141407:120</td>\n",
       "      <td>-1.0</td>\n",
       "    </tr>\n",
       "    <tr>\n",
       "      <th>24</th>\n",
       "      <td>2019-07-10_141407:140</td>\n",
       "      <td>-1.0</td>\n",
       "    </tr>\n",
       "    <tr>\n",
       "      <th>25</th>\n",
       "      <td>2019-07-10_141407:160</td>\n",
       "      <td>-1.0</td>\n",
       "    </tr>\n",
       "    <tr>\n",
       "      <th>26</th>\n",
       "      <td>2019-07-10_141407:180</td>\n",
       "      <td>-1.0</td>\n",
       "    </tr>\n",
       "    <tr>\n",
       "      <th>27</th>\n",
       "      <td>2019-07-10_141407:200</td>\n",
       "      <td>-1.0</td>\n",
       "    </tr>\n",
       "    <tr>\n",
       "      <th>28</th>\n",
       "      <td>2019-07-10_141407:220</td>\n",
       "      <td>-1.0</td>\n",
       "    </tr>\n",
       "    <tr>\n",
       "      <th>29</th>\n",
       "      <td>2019-07-10_141407:240</td>\n",
       "      <td>-1.0</td>\n",
       "    </tr>\n",
       "    <tr>\n",
       "      <th>...</th>\n",
       "      <td>...</td>\n",
       "      <td>...</td>\n",
       "    </tr>\n",
       "    <tr>\n",
       "      <th>536545</th>\n",
       "      <td>2019-07-11_162632:980</td>\n",
       "      <td>-1.0</td>\n",
       "    </tr>\n",
       "    <tr>\n",
       "      <th>536546</th>\n",
       "      <td>2019-07-11_162633:000</td>\n",
       "      <td>-1.0</td>\n",
       "    </tr>\n",
       "    <tr>\n",
       "      <th>536547</th>\n",
       "      <td>2019-07-11_162633:020</td>\n",
       "      <td>-1.0</td>\n",
       "    </tr>\n",
       "    <tr>\n",
       "      <th>536548</th>\n",
       "      <td>2019-07-11_162633:040</td>\n",
       "      <td>-1.0</td>\n",
       "    </tr>\n",
       "    <tr>\n",
       "      <th>536549</th>\n",
       "      <td>2019-07-11_162633:060</td>\n",
       "      <td>-1.0</td>\n",
       "    </tr>\n",
       "    <tr>\n",
       "      <th>536550</th>\n",
       "      <td>2019-07-11_162633:080</td>\n",
       "      <td>-1.0</td>\n",
       "    </tr>\n",
       "    <tr>\n",
       "      <th>536551</th>\n",
       "      <td>2019-07-11_162633:100</td>\n",
       "      <td>-1.0</td>\n",
       "    </tr>\n",
       "    <tr>\n",
       "      <th>536552</th>\n",
       "      <td>2019-07-11_162633:120</td>\n",
       "      <td>-1.0</td>\n",
       "    </tr>\n",
       "    <tr>\n",
       "      <th>536553</th>\n",
       "      <td>2019-07-11_162633:140</td>\n",
       "      <td>-1.0</td>\n",
       "    </tr>\n",
       "    <tr>\n",
       "      <th>536554</th>\n",
       "      <td>2019-07-11_162633:160</td>\n",
       "      <td>-1.0</td>\n",
       "    </tr>\n",
       "    <tr>\n",
       "      <th>536555</th>\n",
       "      <td>2019-07-11_162633:180</td>\n",
       "      <td>-1.0</td>\n",
       "    </tr>\n",
       "    <tr>\n",
       "      <th>536556</th>\n",
       "      <td>2019-07-11_162633:200</td>\n",
       "      <td>-1.0</td>\n",
       "    </tr>\n",
       "    <tr>\n",
       "      <th>536557</th>\n",
       "      <td>2019-07-11_162633:220</td>\n",
       "      <td>-1.0</td>\n",
       "    </tr>\n",
       "    <tr>\n",
       "      <th>536558</th>\n",
       "      <td>2019-07-11_162633:240</td>\n",
       "      <td>-1.0</td>\n",
       "    </tr>\n",
       "    <tr>\n",
       "      <th>536559</th>\n",
       "      <td>2019-07-11_162633:260</td>\n",
       "      <td>-1.0</td>\n",
       "    </tr>\n",
       "    <tr>\n",
       "      <th>536560</th>\n",
       "      <td>2019-07-11_162633:280</td>\n",
       "      <td>-1.0</td>\n",
       "    </tr>\n",
       "    <tr>\n",
       "      <th>536561</th>\n",
       "      <td>2019-07-11_162633:300</td>\n",
       "      <td>-1.0</td>\n",
       "    </tr>\n",
       "    <tr>\n",
       "      <th>536562</th>\n",
       "      <td>2019-07-11_162633:320</td>\n",
       "      <td>-1.0</td>\n",
       "    </tr>\n",
       "    <tr>\n",
       "      <th>536563</th>\n",
       "      <td>2019-07-11_162633:340</td>\n",
       "      <td>-1.0</td>\n",
       "    </tr>\n",
       "    <tr>\n",
       "      <th>536564</th>\n",
       "      <td>2019-07-11_162633:360</td>\n",
       "      <td>-1.0</td>\n",
       "    </tr>\n",
       "    <tr>\n",
       "      <th>536565</th>\n",
       "      <td>2019-07-11_162633:380</td>\n",
       "      <td>-1.0</td>\n",
       "    </tr>\n",
       "    <tr>\n",
       "      <th>536566</th>\n",
       "      <td>2019-07-11_162633:400</td>\n",
       "      <td>-1.0</td>\n",
       "    </tr>\n",
       "    <tr>\n",
       "      <th>536567</th>\n",
       "      <td>2019-07-11_162633:420</td>\n",
       "      <td>-1.0</td>\n",
       "    </tr>\n",
       "    <tr>\n",
       "      <th>536568</th>\n",
       "      <td>2019-07-11_162633:440</td>\n",
       "      <td>-1.0</td>\n",
       "    </tr>\n",
       "    <tr>\n",
       "      <th>536569</th>\n",
       "      <td>2019-07-11_162633:460</td>\n",
       "      <td>-1.0</td>\n",
       "    </tr>\n",
       "    <tr>\n",
       "      <th>536570</th>\n",
       "      <td>2019-07-11_162633:480</td>\n",
       "      <td>-1.0</td>\n",
       "    </tr>\n",
       "    <tr>\n",
       "      <th>536571</th>\n",
       "      <td>2019-07-11_162633:500</td>\n",
       "      <td>-1.0</td>\n",
       "    </tr>\n",
       "    <tr>\n",
       "      <th>536572</th>\n",
       "      <td>2019-07-11_162633:520</td>\n",
       "      <td>-1.0</td>\n",
       "    </tr>\n",
       "    <tr>\n",
       "      <th>536573</th>\n",
       "      <td>2019-07-11_162633:540</td>\n",
       "      <td>-1.0</td>\n",
       "    </tr>\n",
       "    <tr>\n",
       "      <th>536574</th>\n",
       "      <td>2019-07-11_162633:560</td>\n",
       "      <td>-1.0</td>\n",
       "    </tr>\n",
       "  </tbody>\n",
       "</table>\n",
       "<p>247099 rows × 2 columns</p>\n",
       "</div>"
      ],
      "text/plain": [
       "                    timestamp  cat\n",
       "0       2019-07-10_141406:660 -1.0\n",
       "1       2019-07-10_141406:680 -1.0\n",
       "2       2019-07-10_141406:700 -1.0\n",
       "3       2019-07-10_141406:720 -1.0\n",
       "4       2019-07-10_141406:740 -1.0\n",
       "5       2019-07-10_141406:760 -1.0\n",
       "6       2019-07-10_141406:780 -1.0\n",
       "7       2019-07-10_141406:800 -1.0\n",
       "8       2019-07-10_141406:820 -1.0\n",
       "9       2019-07-10_141406:840 -1.0\n",
       "10      2019-07-10_141406:860 -1.0\n",
       "11      2019-07-10_141406:880 -1.0\n",
       "12      2019-07-10_141406:900 -1.0\n",
       "13      2019-07-10_141406:920 -1.0\n",
       "14      2019-07-10_141406:940 -1.0\n",
       "15      2019-07-10_141406:960 -1.0\n",
       "16      2019-07-10_141406:980 -1.0\n",
       "17      2019-07-10_141407:000 -1.0\n",
       "18      2019-07-10_141407:020 -1.0\n",
       "19      2019-07-10_141407:040 -1.0\n",
       "20      2019-07-10_141407:060 -1.0\n",
       "21      2019-07-10_141407:080 -1.0\n",
       "22      2019-07-10_141407:100 -1.0\n",
       "23      2019-07-10_141407:120 -1.0\n",
       "24      2019-07-10_141407:140 -1.0\n",
       "25      2019-07-10_141407:160 -1.0\n",
       "26      2019-07-10_141407:180 -1.0\n",
       "27      2019-07-10_141407:200 -1.0\n",
       "28      2019-07-10_141407:220 -1.0\n",
       "29      2019-07-10_141407:240 -1.0\n",
       "...                       ...  ...\n",
       "536545  2019-07-11_162632:980 -1.0\n",
       "536546  2019-07-11_162633:000 -1.0\n",
       "536547  2019-07-11_162633:020 -1.0\n",
       "536548  2019-07-11_162633:040 -1.0\n",
       "536549  2019-07-11_162633:060 -1.0\n",
       "536550  2019-07-11_162633:080 -1.0\n",
       "536551  2019-07-11_162633:100 -1.0\n",
       "536552  2019-07-11_162633:120 -1.0\n",
       "536553  2019-07-11_162633:140 -1.0\n",
       "536554  2019-07-11_162633:160 -1.0\n",
       "536555  2019-07-11_162633:180 -1.0\n",
       "536556  2019-07-11_162633:200 -1.0\n",
       "536557  2019-07-11_162633:220 -1.0\n",
       "536558  2019-07-11_162633:240 -1.0\n",
       "536559  2019-07-11_162633:260 -1.0\n",
       "536560  2019-07-11_162633:280 -1.0\n",
       "536561  2019-07-11_162633:300 -1.0\n",
       "536562  2019-07-11_162633:320 -1.0\n",
       "536563  2019-07-11_162633:340 -1.0\n",
       "536564  2019-07-11_162633:360 -1.0\n",
       "536565  2019-07-11_162633:380 -1.0\n",
       "536566  2019-07-11_162633:400 -1.0\n",
       "536567  2019-07-11_162633:420 -1.0\n",
       "536568  2019-07-11_162633:440 -1.0\n",
       "536569  2019-07-11_162633:460 -1.0\n",
       "536570  2019-07-11_162633:480 -1.0\n",
       "536571  2019-07-11_162633:500 -1.0\n",
       "536572  2019-07-11_162633:520 -1.0\n",
       "536573  2019-07-11_162633:540 -1.0\n",
       "536574  2019-07-11_162633:560 -1.0\n",
       "\n",
       "[247099 rows x 2 columns]"
      ]
     },
     "execution_count": 17,
     "metadata": {},
     "output_type": "execute_result"
    }
   ],
   "source": []
  },
  {
   "cell_type": "code",
   "execution_count": null,
   "metadata": {},
   "outputs": [],
   "source": []
  }
 ],
 "metadata": {
  "kernelspec": {
   "display_name": "Python 3",
   "language": "python",
   "name": "python3"
  },
  "language_info": {
   "codemirror_mode": {
    "name": "ipython",
    "version": 3
   },
   "file_extension": ".py",
   "mimetype": "text/x-python",
   "name": "python",
   "nbconvert_exporter": "python",
   "pygments_lexer": "ipython3",
   "version": "3.7.3"
  },
  "pycharm": {
   "stem_cell": {
    "cell_type": "raw",
    "metadata": {
     "collapsed": false
    },
    "source": []
   }
  }
 },
 "nbformat": 4,
 "nbformat_minor": 2
}
