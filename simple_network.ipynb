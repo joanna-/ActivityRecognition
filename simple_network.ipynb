{
 "cells": [
  {
   "cell_type": "code",
   "execution_count": 1,
   "metadata": {},
   "outputs": [],
   "source": [
    "import pandas as pd\n",
    "\n",
    "feature_names =  ['accX', 'accY', 'accZ', 'gyroX', 'gyroY', 'gyroZ', 'magX', 'magY', 'magZ']\n",
    "\n",
    "cat_dict = {'1a': 1,'1b': 2,'2a': 3, '2b': 4, '2c': 5, '2d': 6, '3a': 7, '3b': 8, 'TRANSITION': 0}\n",
    "\n",
    "def process_file(filename):\n",
    "    col_names = ['timestamp'] + feature_names + ['cat']\n",
    "    df = pd.read_csv(filename, header=None, names=col_names)\n",
    "    df = df.applymap(lambda x: x.strip() if isinstance(x, str) else x)\n",
    "    df = df.dropna()\n",
    "    df['is_transition'] = df['cat'] == \"TRANSITION\"\n",
    "    df['cat'] = df['cat'].map(cat_dict) \n",
    "    return df\n",
    "\n",
    "df1 = process_file('1_50Hz.csv')\n",
    "df2 = process_file('2_50Hz.csv')\n",
    "df3 = process_file('3_50Hz.csv')"
   ]
  },
  {
   "cell_type": "code",
   "execution_count": 2,
   "metadata": {},
   "outputs": [],
   "source": [
    "df1_filtered = df1[df1.is_transition == False]\n",
    "df2_filtered = df2[df2.is_transition == False]\n",
    "df3_filtered = df3[df3.is_transition == False]"
   ]
  },
  {
   "cell_type": "code",
   "execution_count": 3,
   "metadata": {},
   "outputs": [
    {
     "name": "stdout",
     "output_type": "stream",
     "text": [
      "2.0.0-beta1\n"
     ]
    }
   ],
   "source": [
    "from __future__ import absolute_import, division, print_function, unicode_literals\n",
    "\n",
    "# TensorFlow and tf.keras\n",
    "import tensorflow as tf\n",
    "from tensorflow import keras\n",
    "\n",
    "# Helper libraries\n",
    "import numpy as np\n",
    "import matplotlib.pyplot as plt\n",
    "\n",
    "print(tf.__version__)"
   ]
  },
  {
   "cell_type": "code",
   "execution_count": 4,
   "metadata": {},
   "outputs": [],
   "source": [
    "def fit_model(dataset):\n",
    "    model = keras.Sequential([\n",
    "        keras.layers.Dense(128, activation=tf.nn.relu),\n",
    "        keras.layers.Dense(64, activation=tf.nn.relu),\n",
    "        keras.layers.Dense(16, activation=tf.nn.relu),\n",
    "        keras.layers.Dense(9, activation=tf.nn.softmax)\n",
    "    ])\n",
    "\n",
    "    model.compile(optimizer='adam',\n",
    "                  loss='sparse_categorical_crossentropy',\n",
    "                  metrics=['accuracy'])\n",
    "\n",
    "    X = dataset[feature_names].values\n",
    "    y = dataset.cat.values\n",
    "\n",
    "    model.fit(X, y, epochs=8)\n",
    "    return model"
   ]
  },
  {
   "cell_type": "code",
   "execution_count": 5,
   "metadata": {},
   "outputs": [
    {
     "name": "stderr",
     "output_type": "stream",
     "text": [
      "WARNING: Logging before flag parsing goes to stderr.\n",
      "W0807 21:26:50.635231  2488 deprecation.py:323] From C:\\Users\\User\\Anaconda3\\lib\\site-packages\\tensorflow\\python\\ops\\math_grad.py:1250: add_dispatch_support.<locals>.wrapper (from tensorflow.python.ops.array_ops) is deprecated and will be removed in a future version.\n",
      "Instructions for updating:\n",
      "Use tf.where in 2.0, which has the same broadcast rule as np.where\n"
     ]
    },
    {
     "name": "stdout",
     "output_type": "stream",
     "text": [
      "Train on 803002 samples\n",
      "Epoch 1/8\n",
      "803002/803002 [==============================] - 47s 58us/sample - loss: 0.5207 - accuracy: 0.8156\n",
      "Epoch 2/8\n",
      "803002/803002 [==============================] - 36s 45us/sample - loss: 0.3153 - accuracy: 0.8961\n",
      "Epoch 3/8\n",
      "803002/803002 [==============================] - 34s 43us/sample - loss: 0.2696 - accuracy: 0.9105\n",
      "Epoch 4/8\n",
      "803002/803002 [==============================] - 34s 43us/sample - loss: 0.2489 - accuracy: 0.9165\n",
      "Epoch 5/8\n",
      "803002/803002 [==============================] - 37s 46us/sample - loss: 0.2350 - accuracy: 0.9207\n",
      "Epoch 6/8\n",
      "803002/803002 [==============================] - 35s 44us/sample - loss: 0.2250 - accuracy: 0.9236\n",
      "Epoch 7/8\n",
      "803002/803002 [==============================] - 35s 43us/sample - loss: 0.2168 - accuracy: 0.9262\n",
      "Epoch 8/8\n",
      "803002/803002 [==============================] - 35s 44us/sample - loss: 0.2107 - accuracy: 0.9280\n",
      "Train on 846331 samples\n",
      "Epoch 1/8\n",
      "846331/846331 [==============================] - 36s 43us/sample - loss: 0.2643 - accuracy: 0.9158\n",
      "Epoch 2/8\n",
      "846331/846331 [==============================] - 36s 43us/sample - loss: 0.1335 - accuracy: 0.9585\n",
      "Epoch 3/8\n",
      "846331/846331 [==============================] - 36s 43us/sample - loss: 0.1122 - accuracy: 0.9642\n",
      "Epoch 4/8\n",
      "846331/846331 [==============================] - 35s 42us/sample - loss: 0.1017 - accuracy: 0.9671\n",
      "Epoch 5/8\n",
      "846331/846331 [==============================] - 36s 42us/sample - loss: 0.0947 - accuracy: 0.9691\n",
      "Epoch 6/8\n",
      "846331/846331 [==============================] - 36s 43us/sample - loss: 0.0900 - accuracy: 0.9705\n",
      "Epoch 7/8\n",
      "846331/846331 [==============================] - 36s 42us/sample - loss: 0.0868 - accuracy: 0.9714\n",
      "Epoch 8/8\n",
      "846331/846331 [==============================] - 36s 43us/sample - loss: 0.0836 - accuracy: 0.9726\n",
      "Train on 1649333 samples\n",
      "Epoch 1/8\n",
      "1649333/1649333 [==============================] - 80s 49us/sample - loss: 0.4062 - accuracy: 0.8667\n",
      "Epoch 2/8\n",
      "1649333/1649333 [==============================] - 78s 48us/sample - loss: 0.2473 - accuracy: 0.9201\n",
      "Epoch 3/8\n",
      "1649333/1649333 [==============================] - 94s 57us/sample - loss: 0.2208 - accuracy: 0.9280\n",
      "Epoch 4/8\n",
      "1649333/1649333 [==============================] - 75s 46us/sample - loss: 0.2058 - accuracy: 0.9326\n",
      "Epoch 5/8\n",
      "1649333/1649333 [==============================] - 67s 41us/sample - loss: 0.1957 - accuracy: 0.9357\n",
      "Epoch 6/8\n",
      "1649333/1649333 [==============================] - 61s 37us/sample - loss: 0.1888 - accuracy: 0.9376\n",
      "Epoch 7/8\n",
      "1649333/1649333 [==============================] - 61s 37us/sample - loss: 0.1828 - accuracy: 0.9393\n",
      "Epoch 8/8\n",
      "1649333/1649333 [==============================] - 60s 37us/sample - loss: 0.1791 - accuracy: 0.9406\n"
     ]
    }
   ],
   "source": [
    "model1 = fit_model(df1)\n",
    "model2 = fit_model(df2)\n",
    "model3 = fit_model(pd.concat([df1, df2]))"
   ]
  },
  {
   "cell_type": "code",
   "execution_count": 7,
   "metadata": {},
   "outputs": [
    {
     "name": "stdout",
     "output_type": "stream",
     "text": [
      "888477/888477 [==============================] - 13s 14us/sample - loss: 9.0070 - accuracy: 0.1643\n",
      "Test accuracy: 0.16425073\n",
      "888477/888477 [==============================] - 15s 16us/sample - loss: 5.7836 - accuracy: 0.2134\n",
      "Test accuracy: 0.21336624\n",
      "888477/888477 [==============================] - 14s 16us/sample - loss: 6.0341 - accuracy: 0.2159\n",
      "Test accuracy: 0.21592906\n",
      "678459/678459 [==============================] - 11s 16us/sample - loss: 10.0930 - accuracy: 0.1900\n",
      "Test accuracy: 0.19000264\n",
      "678459/678459 [==============================] - 11s 17us/sample - loss: 6.8769 - accuracy: 0.1299\n",
      "Test accuracy: 0.12985899\n",
      "678459/678459 [==============================] - 11s 17us/sample - loss: 6.6361 - accuracy: 0.1717\n",
      "Test accuracy: 0.17166108\n"
     ]
    }
   ],
   "source": [
    "def evaluate(model, testset):\n",
    "    test_loss, test_acc = model.evaluate(testset[feature_names].values, testset.cat)\n",
    "    print('Test accuracy:', test_acc)\n",
    "\n",
    "evaluate(model1, df3)\n",
    "evaluate(model2, df3)\n",
    "evaluate(model3, df3)\n",
    "evaluate(model1, df3_filtered)\n",
    "evaluate(model2, df3_filtered)\n",
    "evaluate(model3, df3_filtered)"
   ]
  },
  {
   "cell_type": "code",
   "execution_count": null,
   "metadata": {},
   "outputs": [],
   "source": []
  }
 ],
 "metadata": {
  "kernelspec": {
   "display_name": "Python 3",
   "language": "python",
   "name": "python3"
  },
  "language_info": {
   "codemirror_mode": {
    "name": "ipython",
    "version": 3
   },
   "file_extension": ".py",
   "mimetype": "text/x-python",
   "name": "python",
   "nbconvert_exporter": "python",
   "pygments_lexer": "ipython3",
   "version": "3.7.3"
  }
 },
 "nbformat": 4,
 "nbformat_minor": 2
}
